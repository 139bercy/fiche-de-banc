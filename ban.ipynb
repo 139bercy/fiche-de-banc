{
 "cells": [
  {
   "cell_type": "code",
   "execution_count": 14,
   "id": "3045b9cd",
   "metadata": {},
   "outputs": [],
   "source": [
    "import pandas as pd\n",
    "import html2text\n",
    "import module.veille_sociale as vs\n",
    "import importlib\n",
    "from tqdm import tqdm\n",
    "from docx import Document\n",
    "from docx.enum.text import WD_COLOR_INDEX\n",
    "import os\n",
    "import html2text"
   ]
  },
  {
   "cell_type": "code",
   "execution_count": 9,
   "id": "c0cf750b",
   "metadata": {},
   "outputs": [
    {
     "data": {
      "text/plain": [
       "<module 'module.veille_sociale' from '/home/mathildedacruz/amendements/module/veille_sociale.py'>"
      ]
     },
     "execution_count": 9,
     "metadata": {},
     "output_type": "execute_result"
    }
   ],
   "source": [
    "importlib.reload(vs)"
   ]
  },
  {
   "cell_type": "code",
   "execution_count": 10,
   "id": "432ce4b4",
   "metadata": {},
   "outputs": [],
   "source": [
    "nlp = vs.SentenceTransformer('paraphrase-multilingual-MiniLM-L12-v2')\n",
    "nlp_lg = vs.fr_core_news_lg.load()"
   ]
  },
  {
   "cell_type": "code",
   "execution_count": 2,
   "id": "d731f066",
   "metadata": {},
   "outputs": [
    {
     "name": "stderr",
     "output_type": "stream",
     "text": [
      "/tmp/ipykernel_479648/475057402.py:1: DtypeWarning: Columns (45) have mixed types. Specify dtype option on import or set low_memory=False.\n",
      "  amd = pd.read_csv('amendements.csv', sep=';')\n",
      "/tmp/ipykernel_479648/475057402.py:2: DtypeWarning: Columns (20,21,22,26,33) have mixed types. Specify dtype option on import or set low_memory=False.\n",
      "  log = pd.read_csv('logs.csv', sep=';')\n"
     ]
    }
   ],
   "source": [
    "amd = pd.read_csv('amendements.csv', sep=';')\n",
    "log = pd.read_csv('logs.csv', sep=';')"
   ]
  },
  {
   "cell_type": "code",
   "execution_count": 3,
   "id": "f301a18f",
   "metadata": {},
   "outputs": [],
   "source": [
    "text = html2text.html2text(log[log['id_amdt']==12907].iloc[0]['corps'])"
   ]
  },
  {
   "cell_type": "code",
   "execution_count": 4,
   "id": "76c7fdcc",
   "metadata": {},
   "outputs": [
    {
     "name": "stdout",
     "output_type": "stream",
     "text": [
      "I. - L'article 238 _bis_ du code general des impots est complete par un 7\n",
      "ainsi redige :\n",
      "\n",
      "« 7\\. Ouvrent droit a une reduction d'impot egale a 80 % de leur montant les\n",
      "versements effectues sans limite par les petites et moyennes entreprises dont\n",
      "le chiffre d'affaires est inferieur a 50 Millions d'euros au profit des\n",
      "organismes ci-dessus mentionnes a condition que ces versements soient affectes\n",
      "a la rehabilitation, restauration, conservation, entretien de monuments\n",
      "historiques. »\n",
      "\n",
      "II. - La perte de recettes pour l'État est compensee a due concurrence par la\n",
      "creation d'une taxe additionnelle aux droits mentionnes aux articles 575 et\n",
      "575 A du code general des impots.\n",
      "\n",
      "\n"
     ]
    }
   ],
   "source": [
    "print(text)"
   ]
  },
  {
   "cell_type": "code",
   "execution_count": 5,
   "id": "393d4ca1",
   "metadata": {},
   "outputs": [],
   "source": [
    "import torch\n",
    "\n",
    "from transformers import (\n",
    "    AutoTokenizer,\n",
    "    AutoModelForSeq2SeqLM\n",
    ")\n",
    "\n",
    "barthez_tokenizer = AutoTokenizer.from_pretrained(\"moussaKam/barthez\")\n",
    "barthez_model = AutoModelForSeq2SeqLM.from_pretrained(\"moussaKam/barthez-orangesum-abstract\")"
   ]
  },
  {
   "cell_type": "code",
   "execution_count": null,
   "id": "1427a5c8",
   "metadata": {},
   "outputs": [],
   "source": []
  },
  {
   "cell_type": "code",
   "execution_count": 11,
   "id": "dadbb01a",
   "metadata": {},
   "outputs": [],
   "source": [
    "exposes = list(amd['expose'])"
   ]
  },
  {
   "cell_type": "code",
   "execution_count": 12,
   "id": "18783fa4",
   "metadata": {},
   "outputs": [],
   "source": [
    "text = html2text.html2text(amd[amd['id']==15463]['expose'].iloc[0])"
   ]
  },
  {
   "cell_type": "code",
   "execution_count": 13,
   "id": "fb5ef6ab",
   "metadata": {},
   "outputs": [],
   "source": [
    "def summarize_docx(text, titre = None, comm=None, dictionary = None, n_sentences=5, ratio=0, nlp=None, method='local'):\n",
    "   \n",
    "    sentences, summary, sentences_id = vs.summarize_tr(text, dictionary, n_sentences, ratio, method, nlp=nlp)\n",
    "\n",
    "    doc_result = Document()\n",
    "    paragraph = doc_result.add_paragraph()\n",
    "    for i in range(len(sentences)):\n",
    "        sentence = sentences[i]\n",
    "        run = paragraph.add_run(sentence.strip())\n",
    "        if i in sentences_id:\n",
    "            run.bold = True\n",
    "            run.font.highlight_color = WD_COLOR_INDEX.YELLOW #surligner les phrases du résumé   \n",
    "    \n",
    "    doc_result.save('/home/mathildedacruz/amendements/test.docx')\n",
    "    \n",
    "    return summary"
   ]
  },
  {
   "cell_type": "code",
   "execution_count": 15,
   "id": "21d0f790",
   "metadata": {},
   "outputs": [
    {
     "data": {
      "text/plain": [
       "['Au regard des besoins sociaux et des programmes d’action des pouvoirs publics, cet amendement propose donc d’apporter une clarification et une simplification du statut fiscal des opérations de construction et de rénovation dans ces domaines mis en œuvre notamment par le secteur associatif et caritatif.']"
      ]
     },
     "execution_count": 15,
     "metadata": {},
     "output_type": "execute_result"
    }
   ],
   "source": [
    "summarize_docx(html2text.html2text(exposes[1243]), dictionary = None, n_sentences=1, method='local', nlp=nlp_lg)  "
   ]
  },
  {
   "cell_type": "code",
   "execution_count": 16,
   "id": "2542e886",
   "metadata": {},
   "outputs": [
    {
     "data": {
      "text/plain": [
       "['\\\\- accompagner l’agriculture dans ses transitions économiques sociétales et environnementales  \\\\- créer plus de valeur dans les territoires via des projets territoriaux associant les agriculteurs, les collectivités et la société civile (gestion de l’eau, du foncier, la conversion en bio ...)  \\\\- restaurer le dialogue entre la société et l’agriculture  Des actions phares ont été définies (assistance pour la transmission des exploitations, accompagner les agriculteurs vers le bio ...) mais si la baisse du financement des Chambres d’agriculture se confirmait, ces actions indispensables pour les agriculteurs, pour le développement et le dynamisme des territoires ruraux ne pourraient être mises en place et se trouveraient gravement remises en cause à l’heure où elles sont pourtant les plus nécessaires.']"
      ]
     },
     "execution_count": 16,
     "metadata": {},
     "output_type": "execute_result"
    }
   ],
   "source": [
    "summarize_docx(text, dictionary = None, n_sentences=1, method='local', nlp=nlp_lg)  "
   ]
  },
  {
   "cell_type": "code",
   "execution_count": null,
   "id": "3e66fc9d",
   "metadata": {},
   "outputs": [],
   "source": []
  },
  {
   "cell_type": "code",
   "execution_count": null,
   "id": "7d19dc13",
   "metadata": {},
   "outputs": [],
   "source": []
  },
  {
   "cell_type": "code",
   "execution_count": null,
   "id": "b5876195",
   "metadata": {},
   "outputs": [],
   "source": []
  },
  {
   "cell_type": "code",
   "execution_count": null,
   "id": "60e2646a",
   "metadata": {},
   "outputs": [],
   "source": []
  },
  {
   "cell_type": "code",
   "execution_count": null,
   "id": "1dd0537c",
   "metadata": {},
   "outputs": [],
   "source": []
  },
  {
   "cell_type": "code",
   "execution_count": null,
   "id": "ed9c7047",
   "metadata": {},
   "outputs": [],
   "source": []
  }
 ],
 "metadata": {
  "kernelspec": {
   "display_name": "Python 3 (ipykernel)",
   "language": "python",
   "name": "python3"
  },
  "language_info": {
   "codemirror_mode": {
    "name": "ipython",
    "version": 3
   },
   "file_extension": ".py",
   "mimetype": "text/x-python",
   "name": "python",
   "nbconvert_exporter": "python",
   "pygments_lexer": "ipython3",
   "version": "3.8.8"
  }
 },
 "nbformat": 4,
 "nbformat_minor": 5
}
